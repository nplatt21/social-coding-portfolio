{
  "nbformat": 4,
  "nbformat_minor": 0,
  "metadata": {
    "colab": {
      "provenance": []
    },
    "kernelspec": {
      "name": "python3",
      "display_name": "Python 3"
    },
    "language_info": {
      "name": "python"
    }
  },
  "cells": [
    {
      "cell_type": "code",
      "execution_count": 11,
      "metadata": {
        "colab": {
          "base_uri": "https://localhost:8080/",
          "height": 356
        },
        "id": "nxCVpVRY-EU7",
        "outputId": "ba84c152-7b32-4535-dfb7-86e77e970cf0"
      },
      "outputs": [
        {
          "output_type": "stream",
          "name": "stdout",
          "text": [
            "Welcome to the Adventure Game!\n",
            "In this game, you will be presented with choices. Your decisions will shape the outcome of your journey.\n"
          ]
        },
        {
          "output_type": "error",
          "ename": "KeyboardInterrupt",
          "evalue": "Interrupted by user",
          "traceback": [
            "\u001b[0;31m---------------------------------------------------------------------------\u001b[0m",
            "\u001b[0;31mKeyboardInterrupt\u001b[0m                         Traceback (most recent call last)",
            "\u001b[0;32m<ipython-input-11-3c0547ef1cb1>\u001b[0m in \u001b[0;36m<cell line: 90>\u001b[0;34m()\u001b[0m\n\u001b[1;32m     89\u001b[0m \u001b[0;31m# Start the game when the script is executed\u001b[0m\u001b[0;34m\u001b[0m\u001b[0;34m\u001b[0m\u001b[0m\n\u001b[1;32m     90\u001b[0m \u001b[0;32mif\u001b[0m \u001b[0m__name__\u001b[0m \u001b[0;34m==\u001b[0m \u001b[0;34m\"__main__\"\u001b[0m\u001b[0;34m:\u001b[0m\u001b[0;34m\u001b[0m\u001b[0;34m\u001b[0m\u001b[0m\n\u001b[0;32m---> 91\u001b[0;31m     \u001b[0mmain\u001b[0m\u001b[0;34m(\u001b[0m\u001b[0;34m)\u001b[0m\u001b[0;34m\u001b[0m\u001b[0;34m\u001b[0m\u001b[0m\n\u001b[0m",
            "\u001b[0;32m<ipython-input-11-3c0547ef1cb1>\u001b[0m in \u001b[0;36mmain\u001b[0;34m()\u001b[0m\n\u001b[1;32m     84\u001b[0m \u001b[0;31m# Main function to start the game\u001b[0m\u001b[0;34m\u001b[0m\u001b[0;34m\u001b[0m\u001b[0m\n\u001b[1;32m     85\u001b[0m \u001b[0;32mdef\u001b[0m \u001b[0mmain\u001b[0m\u001b[0;34m(\u001b[0m\u001b[0;34m)\u001b[0m\u001b[0;34m:\u001b[0m\u001b[0;34m\u001b[0m\u001b[0;34m\u001b[0m\u001b[0m\n\u001b[0;32m---> 86\u001b[0;31m     \u001b[0mstart_game\u001b[0m\u001b[0;34m(\u001b[0m\u001b[0;34m)\u001b[0m\u001b[0;34m\u001b[0m\u001b[0;34m\u001b[0m\u001b[0m\n\u001b[0m\u001b[1;32m     87\u001b[0m     \u001b[0mfirst_choice\u001b[0m\u001b[0;34m(\u001b[0m\u001b[0;34m)\u001b[0m\u001b[0;34m\u001b[0m\u001b[0;34m\u001b[0m\u001b[0m\n\u001b[1;32m     88\u001b[0m \u001b[0;34m\u001b[0m\u001b[0m\n",
            "\u001b[0;32m<ipython-input-11-3c0547ef1cb1>\u001b[0m in \u001b[0;36mstart_game\u001b[0;34m()\u001b[0m\n\u001b[1;32m      3\u001b[0m     \u001b[0mprint\u001b[0m\u001b[0;34m(\u001b[0m\u001b[0;34m\"Welcome to the Adventure Game!\"\u001b[0m\u001b[0;34m)\u001b[0m\u001b[0;34m\u001b[0m\u001b[0;34m\u001b[0m\u001b[0m\n\u001b[1;32m      4\u001b[0m     \u001b[0mprint\u001b[0m\u001b[0;34m(\u001b[0m\u001b[0;34m\"In this game, you will be presented with choices. Your decisions will shape the outcome of your journey.\"\u001b[0m\u001b[0;34m)\u001b[0m\u001b[0;34m\u001b[0m\u001b[0;34m\u001b[0m\u001b[0m\n\u001b[0;32m----> 5\u001b[0;31m     \u001b[0minput\u001b[0m\u001b[0;34m(\u001b[0m\u001b[0;34m\"Press Enter to start your adventure...\"\u001b[0m\u001b[0;34m)\u001b[0m\u001b[0;34m\u001b[0m\u001b[0;34m\u001b[0m\u001b[0m\n\u001b[0m\u001b[1;32m      6\u001b[0m \u001b[0;34m\u001b[0m\u001b[0m\n\u001b[1;32m      7\u001b[0m \u001b[0;31m# Function for the first decision point\u001b[0m\u001b[0;34m\u001b[0m\u001b[0;34m\u001b[0m\u001b[0m\n",
            "\u001b[0;32m/usr/local/lib/python3.10/dist-packages/ipykernel/kernelbase.py\u001b[0m in \u001b[0;36mraw_input\u001b[0;34m(self, prompt)\u001b[0m\n\u001b[1;32m    849\u001b[0m                 \u001b[0;34m\"raw_input was called, but this frontend does not support input requests.\"\u001b[0m\u001b[0;34m\u001b[0m\u001b[0;34m\u001b[0m\u001b[0m\n\u001b[1;32m    850\u001b[0m             )\n\u001b[0;32m--> 851\u001b[0;31m         return self._input_request(str(prompt),\n\u001b[0m\u001b[1;32m    852\u001b[0m             \u001b[0mself\u001b[0m\u001b[0;34m.\u001b[0m\u001b[0m_parent_ident\u001b[0m\u001b[0;34m,\u001b[0m\u001b[0;34m\u001b[0m\u001b[0;34m\u001b[0m\u001b[0m\n\u001b[1;32m    853\u001b[0m             \u001b[0mself\u001b[0m\u001b[0;34m.\u001b[0m\u001b[0m_parent_header\u001b[0m\u001b[0;34m,\u001b[0m\u001b[0;34m\u001b[0m\u001b[0;34m\u001b[0m\u001b[0m\n",
            "\u001b[0;32m/usr/local/lib/python3.10/dist-packages/ipykernel/kernelbase.py\u001b[0m in \u001b[0;36m_input_request\u001b[0;34m(self, prompt, ident, parent, password)\u001b[0m\n\u001b[1;32m    893\u001b[0m             \u001b[0;32mexcept\u001b[0m \u001b[0mKeyboardInterrupt\u001b[0m\u001b[0;34m:\u001b[0m\u001b[0;34m\u001b[0m\u001b[0;34m\u001b[0m\u001b[0m\n\u001b[1;32m    894\u001b[0m                 \u001b[0;31m# re-raise KeyboardInterrupt, to truncate traceback\u001b[0m\u001b[0;34m\u001b[0m\u001b[0;34m\u001b[0m\u001b[0m\n\u001b[0;32m--> 895\u001b[0;31m                 \u001b[0;32mraise\u001b[0m \u001b[0mKeyboardInterrupt\u001b[0m\u001b[0;34m(\u001b[0m\u001b[0;34m\"Interrupted by user\"\u001b[0m\u001b[0;34m)\u001b[0m \u001b[0;32mfrom\u001b[0m \u001b[0;32mNone\u001b[0m\u001b[0;34m\u001b[0m\u001b[0;34m\u001b[0m\u001b[0m\n\u001b[0m\u001b[1;32m    896\u001b[0m             \u001b[0;32mexcept\u001b[0m \u001b[0mException\u001b[0m \u001b[0;32mas\u001b[0m \u001b[0me\u001b[0m\u001b[0;34m:\u001b[0m\u001b[0;34m\u001b[0m\u001b[0;34m\u001b[0m\u001b[0m\n\u001b[1;32m    897\u001b[0m                 \u001b[0mself\u001b[0m\u001b[0;34m.\u001b[0m\u001b[0mlog\u001b[0m\u001b[0;34m.\u001b[0m\u001b[0mwarning\u001b[0m\u001b[0;34m(\u001b[0m\u001b[0;34m\"Invalid Message:\"\u001b[0m\u001b[0;34m,\u001b[0m \u001b[0mexc_info\u001b[0m\u001b[0;34m=\u001b[0m\u001b[0;32mTrue\u001b[0m\u001b[0;34m)\u001b[0m\u001b[0;34m\u001b[0m\u001b[0;34m\u001b[0m\u001b[0m\n",
            "\u001b[0;31mKeyboardInterrupt\u001b[0m: Interrupted by user"
          ]
        }
      ],
      "source": [
        "# Function to introduce the game\n",
        "def start_game():\n",
        "    print(\"Welcome to the Adventure Game!\")\n",
        "    print(\"In this game, you will be presented with choices. Your decisions will shape the outcome of your journey.\")\n",
        "    input(\"Press Enter to start your adventure...\")\n",
        "\n",
        "# Function for the first decision point\n",
        "def first_choice():\n",
        "    print(\"\\nYou are in a dark forest after setting out from your peacefull vilige with your trusty sword and shield. You see a dimly lit bridge by a single candle \")\n",
        "    print(\"You can either approach the bridge or walk around and try to find another way.\")\n",
        "    choice = input(\"What do you want to do? (approach/walk around): \").strip().lower()\n",
        "\n",
        "    if choice == \"approach\":\n",
        "        encounter_creature()\n",
        "    elif choice == \"walk around\":\n",
        "        find_path()\n",
        "    else:\n",
        "        print(\"Invalid choice. Please try again.\")\n",
        "        first_choice()\n",
        "\n",
        "# Function for the encounter with a troll\n",
        "def encounter_creature():\n",
        "    print(\"\\nAs you approach the bridge, a giant troll coverd in warts and lumps 8 feet tall with only one eye approches you from under the bridge\")\n",
        "    print(\"It asks you to solve a riddle to pass.\")\n",
        "    print(\"The riddle is: What has one eye but can’t see?\")\n",
        "    answer = input(\"Your answer: \").strip().lower()\n",
        "\n",
        "    if answer == \"needle\":\n",
        "        print(\"\\nThe creature nods in approval and lets you pass. You continue your journey.\")\n",
        "        find_path()\n",
        "    else:\n",
        "        print(\"\\nThe troll snarls then pauses for a moment to think..... then eats you. Game over!\")\n",
        "        end_game()\n",
        "\n",
        "# Function for finding a path in the forest\n",
        "def find_path():\n",
        "    print(\"\\nYou walk down finding a narrow path and see two routes ahead.\")\n",
        "    print(\"One path is dark and eerie, the other is well-lit and peaceful.\")\n",
        "    choice = input(\"Which path will you choose? (dark/peaceful): \").strip().lower()\n",
        "\n",
        "    if choice == \"dark\":\n",
        "        dark_path()\n",
        "    elif choice == \"peaceful\":\n",
        "        peaceful_path()\n",
        "    else:\n",
        "        print(\"Invalid choice. Please try again.\")\n",
        "        find_path()\n",
        "\n",
        "# Function for the dark path\n",
        "def dark_path():\n",
        "    print(\"\\nYou enter the dark path, where you hear distant howls and feel the cold air.\")\n",
        "    print(\"Suddenly, a wolf jumps out of the shadows!\")\n",
        "    print(\"Do you fight the wolf or run away?\")\n",
        "    choice = input(\"What do you want to do? (fight/run): \").strip().lower()\n",
        "\n",
        "    if choice == \"fight\":\n",
        "        print(\"\\nYou bravely fight the wolf and defeat it. You continue your journey deeper into the forest.\")\n",
        "        end_game()\n",
        "    elif choice == \"run\":\n",
        "        print(\"\\nYou turn and run back to the starting point, safe but lost. Game over!\")\n",
        "        end_game()\n",
        "    else:\n",
        "        print(\"Invalid choice. Please try again.\")\n",
        "        dark_path()\n",
        "\n",
        "# Function for the peaceful path\n",
        "def peaceful_path():\n",
        "    print(\"\\nYou walk along the peaceful path and eventually find a beautiful village.\")\n",
        "    print(\"The villagers welcome you and offer you a warm meal.\")\n",
        "    print(\"You decide to stay the night.\")\n",
        "    end_game()\n",
        "\n",
        "# Function to end the game\n",
        "def end_game():\n",
        "    print(\"\\nThe game is over. Would you like to play again? (yes/no): \")\n",
        "    choice = input().strip().lower()\n",
        "\n",
        "    if choice == \"yes\":\n",
        "        start_game()\n",
        "        first_choice()\n",
        "    else:\n",
        "        print(\"\\nThank you for playing! Goodbye.\")\n",
        "\n",
        "# Main function to start the game\n",
        "def main():\n",
        "    start_game()\n",
        "    first_choice()\n",
        "\n",
        "# Start the game when the script is executed\n",
        "if __name__ == \"__main__\":\n",
        "    main()\n"
      ]
    }
  ]
}